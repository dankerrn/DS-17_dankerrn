{
 "cells": [
  {
   "cell_type": "markdown",
   "id": "b5738edf",
   "metadata": {},
   "source": [
    "# 1. Markdown cells\n",
    " * Hi! It's main academy?\n",
    " * All HTML tabs are supported!\n",
    " * Моя сторінка на Лінкедін. [Лінкедін](https://www.linkedin.com/)\n",
    " \n",
    " # This is Heading1\n",
    " \n",
    " ## This is Heading2\n",
    " \n",
    " some grey colored text:  \n",
    " > This is where we can bring quotes and present them nicely\n",
    " \n",
    "And this is paragraph about something important. Even math.  \n",
    "$$Y_{sub} = \\sqrt{(x_{sub})}$$\n",
    "\n",
    "Or python code example:  \n",
    "```\n",
    "import math  \n",
    "def foo():  \n",
    "    return \"foo\"\n",
    "```\n",
    "Here is the sample mean:\n",
    "$$\\bar{y} = \\frac{1}{n} \\sum \\limits _{i=1} ^{n} y_{i}$$\n",
    "\n",
    "Here is the sample variance:\n",
    "\n",
    "$$\\sigma^2 = \\frac{\\sum \\limits _{i=1} ^{n} (y_{i} -\\bar{y})^2}{n-1}$$\n",
    "\n",
    "Here is the sample standart deviation:\n",
    "\n",
    "$$\\sigma =\\sqrt{\\frac{\\sum \\limits _{i=1} ^{n} (y_{i} -\\bar{y})^2}{n-1}}$$\n"
   ]
  },
  {
   "cell_type": "code",
   "execution_count": null,
   "id": "02ebf9ab",
   "metadata": {},
   "outputs": [],
   "source": []
  }
 ],
 "metadata": {
  "kernelspec": {
   "display_name": "Python 3 (ipykernel)",
   "language": "python",
   "name": "python3"
  },
  "language_info": {
   "codemirror_mode": {
    "name": "ipython",
    "version": 3
   },
   "file_extension": ".py",
   "mimetype": "text/x-python",
   "name": "python",
   "nbconvert_exporter": "python",
   "pygments_lexer": "ipython3",
   "version": "3.10.1"
  }
 },
 "nbformat": 4,
 "nbformat_minor": 5
}
